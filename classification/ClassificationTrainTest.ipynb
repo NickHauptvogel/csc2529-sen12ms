{
 "nbformat": 4,
 "nbformat_minor": 0,
 "metadata": {
  "colab": {
   "provenance": [],
   "gpuType": "T4",
   "authorship_tag": "ABX9TyPGT0Wg7uUs57FmFyZEr2CB"
  },
  "kernelspec": {
   "name": "python3",
   "display_name": "Python 3"
  },
  "language_info": {
   "name": "python"
  },
  "accelerator": "GPU"
 },
 "cells": [
  {
   "cell_type": "markdown",
   "source": [
    "Mount Google Drive"
   ],
   "metadata": {
    "id": "Eh5DJELlg9R1"
   }
  },
  {
   "cell_type": "code",
   "execution_count": null,
   "metadata": {
    "colab": {
     "base_uri": "https://localhost:8080/"
    },
    "id": "tXjfK1yIYhFv",
    "executionInfo": {
     "status": "ok",
     "timestamp": 1700593824137,
     "user_tz": 300,
     "elapsed": 13917,
     "user": {
      "displayName": "Nick",
      "userId": "01362377837326549481"
     }
    },
    "outputId": "9579b19e-fe12-44b2-9d0a-cabe3edb0644"
   },
   "outputs": [
    {
     "output_type": "stream",
     "name": "stdout",
     "text": [
      "Mounted at /content/drive\n"
     ]
    }
   ],
   "source": [
    "from google.colab import drive\n",
    "drive.mount(\"/content/drive\")"
   ]
  },
  {
   "cell_type": "code",
   "source": [
    "%cd /content/drive/MyDrive/CSC2529"
   ],
   "metadata": {
    "colab": {
     "base_uri": "https://localhost:8080/"
    },
    "id": "hN1FXZqOYyLg",
    "executionInfo": {
     "status": "ok",
     "timestamp": 1700593841331,
     "user_tz": 300,
     "elapsed": 119,
     "user": {
      "displayName": "Nick",
      "userId": "01362377837326549481"
     }
    },
    "outputId": "cf304ffb-fb24-494a-f992-915e46c77da8"
   },
   "execution_count": null,
   "outputs": [
    {
     "output_type": "stream",
     "name": "stdout",
     "text": [
      "/content/drive/MyDrive/CSC2529\n"
     ]
    }
   ]
  },
  {
   "cell_type": "markdown",
   "source": [
    "Clone project"
   ],
   "metadata": {
    "id": "tDpzqyh4hDWg"
   }
  },
  {
   "cell_type": "code",
   "source": [
    "!git clone https://github.com/NickHauptvogel/csc2529-sen12ms.git"
   ],
   "metadata": {
    "colab": {
     "base_uri": "https://localhost:8080/"
    },
    "id": "UWix7zGtYy5s",
    "executionInfo": {
     "status": "ok",
     "timestamp": 1699822886001,
     "user_tz": 300,
     "elapsed": 7,
     "user": {
      "displayName": "Nick",
      "userId": "01362377837326549481"
     }
    },
    "outputId": "f09e2ac8-e331-40d7-d78f-6da45e08af6b"
   },
   "execution_count": null,
   "outputs": [
    {
     "output_type": "stream",
     "name": "stdout",
     "text": [
      "fatal: destination path 'csc2529-sen12ms' already exists and is not an empty directory.\n"
     ]
    }
   ]
  },
  {
   "cell_type": "code",
   "source": [
    "%cd csc2529-sen12ms"
   ],
   "metadata": {
    "colab": {
     "base_uri": "https://localhost:8080/"
    },
    "id": "yjeJQOHzj6V1",
    "executionInfo": {
     "status": "ok",
     "timestamp": 1700593844242,
     "user_tz": 300,
     "elapsed": 119,
     "user": {
      "displayName": "Nick",
      "userId": "01362377837326549481"
     }
    },
    "outputId": "c17703ac-4eaa-4a6f-e7a4-9f701307b447"
   },
   "execution_count": null,
   "outputs": [
    {
     "output_type": "stream",
     "name": "stdout",
     "text": [
      "/content/drive/MyDrive/CSC2529/csc2529-sen12ms\n"
     ]
    }
   ]
  },
  {
   "cell_type": "code",
   "source": [
    "!git pull"
   ],
   "metadata": {
    "colab": {
     "base_uri": "https://localhost:8080/"
    },
    "id": "7-hHOAklXcYG",
    "executionInfo": {
     "status": "ok",
     "timestamp": 1700593904238,
     "user_tz": 300,
     "elapsed": 9123,
     "user": {
      "displayName": "Nick",
      "userId": "01362377837326549481"
     }
    },
    "outputId": "c91932ac-9356-4fb2-aea9-769b5f0398e5"
   },
   "execution_count": null,
   "outputs": [
    {
     "output_type": "stream",
     "name": "stdout",
     "text": [
      "Already up to date.\n"
     ]
    }
   ]
  },
  {
   "cell_type": "markdown",
   "source": [
    "Install Anaconda for python 3.7 environment"
   ],
   "metadata": {
    "id": "XBYr4MYxhKaw"
   }
  },
  {
   "cell_type": "code",
   "source": [
    "%env PYTHONPATH = # /env/python\n",
    "\n",
    "#!wget https://repo.anaconda.com/miniconda/Miniconda3-py38_4.12.0-Linux-x86_64.sh\n",
    "!chmod +x ../Miniconda3-py38_4.12.0-Linux-x86_64.sh\n",
    "!../Miniconda3-py38_4.12.0-Linux-x86_64.sh -b -f -p /usr/local\n",
    "!conda update conda\n",
    "\n",
    "import sys\n",
    "sys.path.append('/usr/local/lib/python3.8/site-packages')\n",
    "\n",
    "!conda create -n myenv python=3.7"
   ],
   "metadata": {
    "id": "iR538V-zY6EN"
   },
   "execution_count": null,
   "outputs": []
  },
  {
   "cell_type": "code",
   "source": [
    "%%shell\n",
    "eval \"$(conda shell.bash hook)\"\n",
    "conda activate myenv\n",
    "pip install numpy==1.21.6\n",
    "pip install rasterio==1.1.5\n",
    "pip install scikit-learn==0.22.1\n",
    "pip install tensorboardX==2.0\n",
    "pip install torch==1.4.0\n",
    "pip install torchvision==0.5.0\n",
    "pip install tqdm==4.46.1\n",
    "pip install pandas\n",
    "pip install protobuf==3.20.*\n",
    "pip install s2cloudless"
   ],
   "metadata": {
    "id": "zCx0POtzZwL4"
   },
   "execution_count": null,
   "outputs": []
  },
  {
   "cell_type": "code",
   "source": [
    "%cd classification/"
   ],
   "metadata": {
    "colab": {
     "base_uri": "https://localhost:8080/"
    },
    "id": "1CqjddO0bLtD",
    "executionInfo": {
     "status": "ok",
     "timestamp": 1700516264898,
     "user_tz": 300,
     "elapsed": 139,
     "user": {
      "displayName": "Nick",
      "userId": "01362377837326549481"
     }
    },
    "outputId": "0a3c0b28-ba55-44c0-a55a-19478efa9116"
   },
   "execution_count": null,
   "outputs": [
    {
     "output_type": "stream",
     "name": "stdout",
     "text": [
      "/content/drive/MyDrive/CSC2529/csc2529-sen12ms/classification\n"
     ]
    }
   ]
  },
  {
   "cell_type": "markdown",
   "source": [
    "Train ResNet50"
   ],
   "metadata": {
    "id": "xWHZu-o3hkaQ"
   }
  },
  {
   "cell_type": "code",
   "source": [
    "%%shell\n",
    "eval \"$(conda shell.bash hook)\"\n",
    "conda activate myenv\n",
    "python main_train.py --num_workers 16 --data_dir \"/content/drive/MyDrive/CSC2529/data\" --label_split_dir \"../splits\" --use_s2 --IGBP_simple --label_type single_label"
   ],
   "metadata": {
    "id": "XvLIshZzp2wf"
   },
   "execution_count": null,
   "outputs": []
  },
  {
   "cell_type": "markdown",
   "source": [
    "Test on cloud-free data"
   ],
   "metadata": {
    "id": "yKDMigp6iv5h"
   }
  },
  {
   "cell_type": "code",
   "source": [
    "%%shell\n",
    "eval \"$(conda shell.bash hook)\"\n",
    "conda activate myenv\n",
    "python test.py --experiment_suffix \"\" --data_dir \"/content/drive/MyDrive/CSC2529/data\" --label_split_dir \"../splits\" --checkpoint_pth \"ResNet50/checkpoints/20231112_165322_model_best.pth\" --config_file \"ResNet50/logs/20231112_165322_arguments.txt\""
   ],
   "metadata": {
    "id": "OObX9IvOkZdT"
   },
   "execution_count": null,
   "outputs": []
  },
  {
   "cell_type": "markdown",
   "source": [
    "Test on cloudy data"
   ],
   "metadata": {
    "id": "cRIvw_THiyrM"
   }
  },
  {
   "cell_type": "code",
   "source": [
    "%%shell\n",
    "eval \"$(conda shell.bash hook)\"\n",
    "conda activate myenv\n",
    "python test.py --experiment_suffix \"_cloudy\" --data_dir \"/content/drive/MyDrive/CSC2529/data\" --label_split_dir \"../splits\" --checkpoint_pth \"ResNet50/checkpoints/20231112_165322_model_best.pth\" --config_file \"ResNet50/logs/20231112_165322_arguments.txt\""
   ],
   "metadata": {
    "id": "zPJ3vWgGjDFD"
   },
   "execution_count": null,
   "outputs": []
  },
  {
   "cell_type": "markdown",
   "source": [
    "Test on cloud-removed data"
   ],
   "metadata": {
    "id": "iKz22KLxi1XA"
   }
  },
  {
   "cell_type": "code",
   "source": [
    "%%shell\n",
    "eval \"$(conda shell.bash hook)\"\n",
    "conda activate myenv\n",
    "python test.py --s2_separate_folder \"/content/drive/MyDrive/CSC2529/cr_models/UnCRtainTS/model/inference\" --experiment_suffix \"\" --data_dir \"/content/drive/MyDrive/CSC2529/data\" --label_split_dir \"../splits\" --checkpoint_pth \"ResNet50/checkpoints/20231112_165322_model_best.pth\" --config_file \"ResNet50/logs/20231112_165322_arguments.txt\""
   ],
   "metadata": {
    "id": "ERC2RAT0jFbg"
   },
   "execution_count": null,
   "outputs": []
  },
  {
   "cell_type": "markdown",
   "source": [
    "Save results in GDrive"
   ],
   "metadata": {
    "id": "OtTWVQqwi4V4"
   }
  },
  {
   "cell_type": "code",
   "source": [
    "from google.colab import drive\n",
    "drive.flush_and_unmount()"
   ],
   "metadata": {
    "id": "8iC8KElotpFK"
   },
   "execution_count": null,
   "outputs": []
  }
 ]
}
